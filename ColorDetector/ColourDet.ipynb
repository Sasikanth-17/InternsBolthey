{
 "cells": [
  {
   "cell_type": "code",
   "execution_count": 2,
   "metadata": {},
   "outputs": [],
   "source": [
    "import cv2 as cv\n",
    "import numpy as np \n",
    "import matplotlib.pyplot as plt\n",
    "from utils import get_limits\n",
    "from PIL import Image"
   ]
  },
  {
   "cell_type": "code",
   "execution_count": 16,
   "metadata": {},
   "outputs": [],
   "source": [
    "blue=[255,0,0]\n",
    "cap=cv.VideoCapture(0)\n",
    "while True:\n",
    "    ret, frame= cap.read()\n",
    "    hsvImage=cv.cvtColor(frame,cv.COLOR_BGR2HSV)\n",
    "    lowerLimit, upperLimit = get_limits(color=blue)\n",
    "    mask = cv.inRange(hsvImage, lowerLimit, upperLimit)\n",
    "    mask_image = Image.fromarray(mask)\n",
    "    box = mask_image.getbbox()\n",
    "    if box is not None:\n",
    "        x1,y1,x2,y2 = box \n",
    "        frame= cv.rectangle(frame, (x1,y1), (x2,y2), (0,255,0), 2)\n",
    "    \n",
    "    cv.imshow(\"Frame\",frame)\n",
    "    if cv.waitKey(1) & 0xFF==ord('q'):\n",
    "        break\n",
    "cap.release()\n",
    "cv.destroyAllWindows()"
   ]
  }
 ],
 "metadata": {
  "kernelspec": {
   "display_name": "opencv-env",
   "language": "python",
   "name": "python3"
  },
  "language_info": {
   "codemirror_mode": {
    "name": "ipython",
    "version": 3
   },
   "file_extension": ".py",
   "mimetype": "text/x-python",
   "name": "python",
   "nbconvert_exporter": "python",
   "pygments_lexer": "ipython3",
   "version": "3.11.9"
  }
 },
 "nbformat": 4,
 "nbformat_minor": 2
}
